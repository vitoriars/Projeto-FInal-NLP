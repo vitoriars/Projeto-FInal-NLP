{
  "nbformat": 4,
  "nbformat_minor": 0,
  "metadata": {
    "colab": {
      "name": "Projeto NLP - Parte II.ipynb",
      "provenance": []
    },
    "kernelspec": {
      "name": "python3",
      "display_name": "Python 3"
    }
  },
  "cells": [
    {
      "cell_type": "markdown",
      "metadata": {
        "id": "NZMhBOqU0txi",
        "colab_type": "text"
      },
      "source": [
        "# Aplicação com um método léxico\n",
        "\n",
        "Aqui estou mais um dia.\n",
        "\n",
        "Voltamos para a segunda parte do trabalho! Desta vez, vamos ver como aplicar uma análise de sentimentos com uma biblioteca que não precisa necessariamente de labels, mas que possui uma nota atribuída a todas as palavras. \n",
        "\n"
      ]
    },
    {
      "cell_type": "markdown",
      "metadata": {
        "id": "vKHpEHahdoYz",
        "colab_type": "text"
      },
      "source": [
        "## Pré-processamento\n",
        "\n",
        "Primeiro, vou fazer o pré-processamento necessário. Para essa biblioteca em questão só precisamos remover as tags html. Então precisamos importar as bibliotecas, ler nosso dataframe e retirar as tags. Bora:\n",
        "\n"
      ]
    },
    {
      "cell_type": "code",
      "metadata": {
        "id": "OH3SIPCDdve3",
        "colab_type": "code",
        "colab": {}
      },
      "source": [
        "#bibliotecas\n",
        "from bs4 import BeautifulSoup \n",
        "import pandas as pd \n",
        "import numpy as np "
      ],
      "execution_count": 42,
      "outputs": []
    },
    {
      "cell_type": "code",
      "metadata": {
        "id": "vgLkX-Ivg4hg",
        "colab_type": "code",
        "colab": {
          "base_uri": "https://localhost:8080/",
          "height": 204
        },
        "outputId": "8f53cd04-a40a-4a65-bd99-a8753a158983"
      },
      "source": [
        "#lendo o dataframe\n",
        "df = pd.read_csv('/content/134715_320111_compressed_IMDB Dataset.csv.zip')\n",
        "df.head()"
      ],
      "execution_count": 43,
      "outputs": [
        {
          "output_type": "execute_result",
          "data": {
            "text/html": [
              "<div>\n",
              "<style scoped>\n",
              "    .dataframe tbody tr th:only-of-type {\n",
              "        vertical-align: middle;\n",
              "    }\n",
              "\n",
              "    .dataframe tbody tr th {\n",
              "        vertical-align: top;\n",
              "    }\n",
              "\n",
              "    .dataframe thead th {\n",
              "        text-align: right;\n",
              "    }\n",
              "</style>\n",
              "<table border=\"1\" class=\"dataframe\">\n",
              "  <thead>\n",
              "    <tr style=\"text-align: right;\">\n",
              "      <th></th>\n",
              "      <th>review</th>\n",
              "      <th>sentiment</th>\n",
              "    </tr>\n",
              "  </thead>\n",
              "  <tbody>\n",
              "    <tr>\n",
              "      <th>0</th>\n",
              "      <td>One of the other reviewers has mentioned that ...</td>\n",
              "      <td>positive</td>\n",
              "    </tr>\n",
              "    <tr>\n",
              "      <th>1</th>\n",
              "      <td>A wonderful little production. &lt;br /&gt;&lt;br /&gt;The...</td>\n",
              "      <td>positive</td>\n",
              "    </tr>\n",
              "    <tr>\n",
              "      <th>2</th>\n",
              "      <td>I thought this was a wonderful way to spend ti...</td>\n",
              "      <td>positive</td>\n",
              "    </tr>\n",
              "    <tr>\n",
              "      <th>3</th>\n",
              "      <td>Basically there's a family where a little boy ...</td>\n",
              "      <td>negative</td>\n",
              "    </tr>\n",
              "    <tr>\n",
              "      <th>4</th>\n",
              "      <td>Petter Mattei's \"Love in the Time of Money\" is...</td>\n",
              "      <td>positive</td>\n",
              "    </tr>\n",
              "  </tbody>\n",
              "</table>\n",
              "</div>"
            ],
            "text/plain": [
              "                                              review sentiment\n",
              "0  One of the other reviewers has mentioned that ...  positive\n",
              "1  A wonderful little production. <br /><br />The...  positive\n",
              "2  I thought this was a wonderful way to spend ti...  positive\n",
              "3  Basically there's a family where a little boy ...  negative\n",
              "4  Petter Mattei's \"Love in the Time of Money\" is...  positive"
            ]
          },
          "metadata": {
            "tags": []
          },
          "execution_count": 43
        }
      ]
    },
    {
      "cell_type": "code",
      "metadata": {
        "id": "JybKRVQnlsGr",
        "colab_type": "code",
        "colab": {}
      },
      "source": [
        "#removendo as tags \n",
        "def remove_tags(texto):\n",
        "  \n",
        "  soup = BeautifulSoup(texto)\n",
        "  texto_sem_tags = soup.get_text()\n",
        "  return texto_sem_tags\n",
        "\n",
        "df['review'] = df['review'].apply(remove_tags)"
      ],
      "execution_count": 44,
      "outputs": []
    },
    {
      "cell_type": "code",
      "metadata": {
        "id": "ZI06YFLemwAO",
        "colab_type": "code",
        "colab": {
          "base_uri": "https://localhost:8080/",
          "height": 111
        },
        "outputId": "2fc69d1d-9da6-46e0-994b-6cba043e9424"
      },
      "source": [
        "df.head(2) #tudo certinho!"
      ],
      "execution_count": 45,
      "outputs": [
        {
          "output_type": "execute_result",
          "data": {
            "text/html": [
              "<div>\n",
              "<style scoped>\n",
              "    .dataframe tbody tr th:only-of-type {\n",
              "        vertical-align: middle;\n",
              "    }\n",
              "\n",
              "    .dataframe tbody tr th {\n",
              "        vertical-align: top;\n",
              "    }\n",
              "\n",
              "    .dataframe thead th {\n",
              "        text-align: right;\n",
              "    }\n",
              "</style>\n",
              "<table border=\"1\" class=\"dataframe\">\n",
              "  <thead>\n",
              "    <tr style=\"text-align: right;\">\n",
              "      <th></th>\n",
              "      <th>review</th>\n",
              "      <th>sentiment</th>\n",
              "    </tr>\n",
              "  </thead>\n",
              "  <tbody>\n",
              "    <tr>\n",
              "      <th>0</th>\n",
              "      <td>One of the other reviewers has mentioned that ...</td>\n",
              "      <td>positive</td>\n",
              "    </tr>\n",
              "    <tr>\n",
              "      <th>1</th>\n",
              "      <td>A wonderful little production. The filming tec...</td>\n",
              "      <td>positive</td>\n",
              "    </tr>\n",
              "  </tbody>\n",
              "</table>\n",
              "</div>"
            ],
            "text/plain": [
              "                                              review sentiment\n",
              "0  One of the other reviewers has mentioned that ...  positive\n",
              "1  A wonderful little production. The filming tec...  positive"
            ]
          },
          "metadata": {
            "tags": []
          },
          "execution_count": 45
        }
      ]
    },
    {
      "cell_type": "markdown",
      "metadata": {
        "id": "WpUuzOjVnau3",
        "colab_type": "text"
      },
      "source": [
        "## Aplicação de uma análise de sentimentos com Vader\n",
        "\n",
        "\n"
      ]
    },
    {
      "cell_type": "markdown",
      "metadata": {
        "id": "J8rhGrcUMay2",
        "colab_type": "text"
      },
      "source": [
        "### Biblioteca vaderSentiment\n",
        "\n",
        "Para essa parte precisamos primeiro instalar a biblioteca e depois importá-la. Vamos fazer isso:"
      ]
    },
    {
      "cell_type": "code",
      "metadata": {
        "id": "eWt1awBt1xF0",
        "colab_type": "code",
        "colab": {
          "base_uri": "https://localhost:8080/",
          "height": 119
        },
        "outputId": "0fcdeadd-131e-4836-e692-df606b9b223f"
      },
      "source": [
        "!pip install vaderSentiment"
      ],
      "execution_count": 46,
      "outputs": [
        {
          "output_type": "stream",
          "text": [
            "Requirement already satisfied: vaderSentiment in /usr/local/lib/python3.6/dist-packages (3.3.2)\n",
            "Requirement already satisfied: requests in /usr/local/lib/python3.6/dist-packages (from vaderSentiment) (2.23.0)\n",
            "Requirement already satisfied: urllib3!=1.25.0,!=1.25.1,<1.26,>=1.21.1 in /usr/local/lib/python3.6/dist-packages (from requests->vaderSentiment) (1.24.3)\n",
            "Requirement already satisfied: certifi>=2017.4.17 in /usr/local/lib/python3.6/dist-packages (from requests->vaderSentiment) (2020.6.20)\n",
            "Requirement already satisfied: chardet<4,>=3.0.2 in /usr/local/lib/python3.6/dist-packages (from requests->vaderSentiment) (3.0.4)\n",
            "Requirement already satisfied: idna<3,>=2.5 in /usr/local/lib/python3.6/dist-packages (from requests->vaderSentiment) (2.10)\n"
          ],
          "name": "stdout"
        }
      ]
    },
    {
      "cell_type": "code",
      "metadata": {
        "id": "kefmIFJJ1cfB",
        "colab_type": "code",
        "colab": {}
      },
      "source": [
        "#importando a classe\n",
        "from vaderSentiment.vaderSentiment import SentimentIntensityAnalyzer\n",
        "\n",
        "#instanciando\n",
        "analyser = SentimentIntensityAnalyzer()"
      ],
      "execution_count": 47,
      "outputs": []
    },
    {
      "cell_type": "markdown",
      "metadata": {
        "id": "sMl-pelhMQQs",
        "colab_type": "text"
      },
      "source": [
        "### Calculando o compound\n",
        "\n",
        "Para a análise em si vou criar uma função que passa pelas linhas do dataframe e retorna o compound da função `polarity_score` de cada uma:"
      ]
    },
    {
      "cell_type": "code",
      "metadata": {
        "id": "RSuEwuSRafGB",
        "colab_type": "code",
        "colab": {}
      },
      "source": [
        "#função\n",
        "def analise(texto):\n",
        "  for frases in texto:\n",
        "    df_analisado = analyser.polarity_scores(texto)['compound']\n",
        "    return df_analisado"
      ],
      "execution_count": 48,
      "outputs": []
    },
    {
      "cell_type": "code",
      "metadata": {
        "id": "Ci2V9lsw-yXb",
        "colab_type": "code",
        "colab": {}
      },
      "source": [
        "#aqui apliquei essa função a coluna review e guardei o resultado dentro de uma nova coluna chamada new_review\n",
        "df['new_review'] = df['review'].apply(analise)"
      ],
      "execution_count": 49,
      "outputs": []
    },
    {
      "cell_type": "markdown",
      "metadata": {
        "id": "oUrtSO5DM_08",
        "colab_type": "text"
      },
      "source": [
        "Vamos ver como ficou nossa nova coluna:"
      ]
    },
    {
      "cell_type": "code",
      "metadata": {
        "id": "vWh-3tRdgwQX",
        "colab_type": "code",
        "colab": {
          "base_uri": "https://localhost:8080/",
          "height": 221
        },
        "outputId": "5f57c448-f4e0-4e80-b3db-47b5c3cc0c5d"
      },
      "source": [
        "df['new_review'] "
      ],
      "execution_count": 50,
      "outputs": [
        {
          "output_type": "execute_result",
          "data": {
            "text/plain": [
              "0       -0.9916\n",
              "1        0.9670\n",
              "2        0.9519\n",
              "3       -0.9213\n",
              "4        0.9744\n",
              "          ...  \n",
              "49995    0.9886\n",
              "49996   -0.6837\n",
              "49997   -0.9734\n",
              "49998   -0.8657\n",
              "49999    0.6975\n",
              "Name: new_review, Length: 50000, dtype: float64"
            ]
          },
          "metadata": {
            "tags": []
          },
          "execution_count": 50
        }
      ]
    },
    {
      "cell_type": "markdown",
      "metadata": {
        "id": "8uR-WdIfNDvH",
        "colab_type": "text"
      },
      "source": [
        "Deu certo! O único problema é que o valor do compound não retorna labels iguais aos da coluna 'sentiment', e sim valores de 1 a -1. Entretanto, nós sabemos que quanto mais perto de 1 mais positivo é o sentimento, e quanto mais perto de -1 mais negativo. Portanto, vamos criar uma função que transforma esses valores em labels iguais a \"positive\" e \"negative\":"
      ]
    },
    {
      "cell_type": "code",
      "metadata": {
        "id": "OeZ6dTVqftHN",
        "colab_type": "code",
        "colab": {}
      },
      "source": [
        "#função que transforma valores maiores que 0 em positive e menores em negative\n",
        "def analise2(score):\n",
        "  if score > 0:\n",
        "    return 'positive'\n",
        " \n",
        "  return 'negative'"
      ],
      "execution_count": 54,
      "outputs": []
    },
    {
      "cell_type": "markdown",
      "metadata": {
        "id": "cVQw3kXUOFan",
        "colab_type": "text"
      },
      "source": [
        "Vamos aplicar essa função a uma nova coluna chamada 'new_sentiment' e depois visualizar essa coluna:"
      ]
    },
    {
      "cell_type": "code",
      "metadata": {
        "id": "sPT8EdK1fjGo",
        "colab_type": "code",
        "colab": {}
      },
      "source": [
        " #aplicando\n",
        " df['new_sentiment'] = df['new_review'].apply(analise2)"
      ],
      "execution_count": 53,
      "outputs": []
    },
    {
      "cell_type": "code",
      "metadata": {
        "id": "kV9cqoxCG_NA",
        "colab_type": "code",
        "colab": {
          "base_uri": "https://localhost:8080/",
          "height": 221
        },
        "outputId": "7ed0554d-3cf3-4609-c7d5-6b36707b57f6"
      },
      "source": [
        "#vamos ver como ficou\n",
        "df['new_sentiment']"
      ],
      "execution_count": 55,
      "outputs": [
        {
          "output_type": "execute_result",
          "data": {
            "text/plain": [
              "0        negative\n",
              "1        positive\n",
              "2        positive\n",
              "3        negative\n",
              "4        positive\n",
              "           ...   \n",
              "49995    positive\n",
              "49996    negative\n",
              "49997    negative\n",
              "49998    negative\n",
              "49999    positive\n",
              "Name: new_sentiment, Length: 50000, dtype: object"
            ]
          },
          "metadata": {
            "tags": []
          },
          "execution_count": 55
        }
      ]
    },
    {
      "cell_type": "markdown",
      "metadata": {
        "id": "o-K8uZLVOlck",
        "colab_type": "text"
      },
      "source": [
        "Agora ta certinho! Com as labels iguais a da coluna 'sentiment' podemos calcular nossas métricas para saber o quão bem nosso modelo previu o sentimento correto. Vamos lá:"
      ]
    },
    {
      "cell_type": "markdown",
      "metadata": {
        "id": "UYCJhuQwO11d",
        "colab_type": "text"
      },
      "source": [
        "### Métricas\n",
        "\n",
        "Para isso, vou importar a biblioteca `classification_report` das métricas do sklearn:"
      ]
    },
    {
      "cell_type": "code",
      "metadata": {
        "id": "lBh4IkAO795K",
        "colab_type": "code",
        "colab": {}
      },
      "source": [
        "from sklearn.metrics import classification_report "
      ],
      "execution_count": 56,
      "outputs": []
    },
    {
      "cell_type": "code",
      "metadata": {
        "id": "bJRnStYC1EIu",
        "colab_type": "code",
        "colab": {
          "base_uri": "https://localhost:8080/",
          "height": 170
        },
        "outputId": "2b9b6817-d139-4e69-c519-e1b21fe4a7f5"
      },
      "source": [
        "print(classification_report(df['sentiment'], df['new_sentiment']))"
      ],
      "execution_count": 57,
      "outputs": [
        {
          "output_type": "stream",
          "text": [
            "              precision    recall  f1-score   support\n",
            "\n",
            "    negative       0.79      0.53      0.64     25000\n",
            "    positive       0.65      0.86      0.74     25000\n",
            "\n",
            "    accuracy                           0.70     50000\n",
            "   macro avg       0.72      0.70      0.69     50000\n",
            "weighted avg       0.72      0.70      0.69     50000\n",
            "\n"
          ],
          "name": "stdout"
        }
      ]
    },
    {
      "cell_type": "markdown",
      "metadata": {
        "id": "DpdfWij7PwLs",
        "colab_type": "text"
      },
      "source": [
        "### Conclusão\n",
        "\n",
        "Nossa previsão não foi tão boa quanto as dos modelos anteriores... Nossa precision mostrou que que nosso número de falsos positivos não foi bom e ficou maior do que deveria. A recall também não foi tão boa. previmos corretamente só 53% dos sentimentos negativos (muuuuuito pouco) e 86% dos sentimentos positivos, o que é um pouco melhor. A f1 que é a média harmônica da recall não ficou tão boa também. Por fim, nossa acurácia ficou como 70%, não é o ideal mas também não é ruim. \n",
        "\n",
        "Nessa parte do trabalho realmente gostei de trabalhar com um modelo que não exigisse labels para treino, nunca tinha feito isso antes! Foi muito bom aprender enquanto fazia. "
      ]
    }
  ]
}